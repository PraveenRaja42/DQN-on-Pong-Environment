{
  "nbformat": 4,
  "nbformat_minor": 0,
  "metadata": {
    "kernelspec": {
      "display_name": "Python 3",
      "language": "python",
      "name": "python3"
    },
    "language_info": {
      "codemirror_mode": {
        "name": "ipython",
        "version": 3
      },
      "file_extension": ".py",
      "mimetype": "text/x-python",
      "name": "python",
      "nbconvert_exporter": "python",
      "pygments_lexer": "ipython3",
      "version": "3.7.6"
    },
    "colab": {
      "name": "Ch4_PolicyGradients.ipynb",
      "provenance": [],
      "include_colab_link": true
    }
  },
  "cells": [
    {
      "cell_type": "markdown",
      "metadata": {
        "id": "view-in-github",
        "colab_type": "text"
      },
      "source": [
        "<a href=\"https://colab.research.google.com/github/PraveenRaja42/DQN-on-Pong-Environment/blob/main/Ch4_PolicyGradients.ipynb\" target=\"_parent\"><img src=\"https://colab.research.google.com/assets/colab-badge.svg\" alt=\"Open In Colab\"/></a>"
      ]
    },
    {
      "cell_type": "markdown",
      "metadata": {
        "id": "1q-bRbosGUR3"
      },
      "source": [
        "# Deep Reinforcement Learning <em> in Action </em> \n",
        "## Ch. 4 - Policy Gradients"
      ]
    },
    {
      "cell_type": "code",
      "metadata": {
        "id": "OjZdGipoGUR6"
      },
      "source": [
        "from gym import envs\n"
      ],
      "execution_count": 1,
      "outputs": []
    },
    {
      "cell_type": "code",
      "metadata": {
        "id": "aQaopz2MGUR7"
      },
      "source": [
        ""
      ],
      "execution_count": null,
      "outputs": []
    },
    {
      "cell_type": "code",
      "metadata": {
        "id": "eicq0Z6OGUR7"
      },
      "source": [
        "import gym\n",
        "import numpy as np\n",
        "import torch\n",
        "from matplotlib import pylab as plt"
      ],
      "execution_count": null,
      "outputs": []
    },
    {
      "cell_type": "code",
      "metadata": {
        "id": "8W7mqLjuGUR7"
      },
      "source": [
        "env = gym.make(\"CartPole-v0\")"
      ],
      "execution_count": null,
      "outputs": []
    },
    {
      "cell_type": "code",
      "metadata": {
        "id": "aD7_v1olGUR8",
        "outputId": "bd19851f-5609-4248-8e0f-0238f821185b"
      },
      "source": [
        "print(env.observation_space)"
      ],
      "execution_count": null,
      "outputs": [
        {
          "output_type": "stream",
          "text": [
            "Box(4,)\n"
          ],
          "name": "stdout"
        }
      ]
    },
    {
      "cell_type": "markdown",
      "metadata": {
        "id": "T8I_BbjZGUR8"
      },
      "source": [
        "#### Helper functions"
      ]
    },
    {
      "cell_type": "code",
      "metadata": {
        "id": "77I0taWeGUR9"
      },
      "source": [
        "def running_mean(x, N=50):\n",
        "    cumsum = np.cumsum(np.insert(x, 0, 0)) \n",
        "    return (cumsum[N:] - cumsum[:-N]) / float(N)"
      ],
      "execution_count": null,
      "outputs": []
    },
    {
      "cell_type": "markdown",
      "metadata": {
        "id": "3Nqdn8kyGUR9"
      },
      "source": [
        "#### Defining Network"
      ]
    },
    {
      "cell_type": "code",
      "metadata": {
        "id": "2ns4ibw7GUR9"
      },
      "source": [
        "l1 = 4\n",
        "l2 = 150\n",
        "l3 = 2\n",
        "\n",
        "model = torch.nn.Sequential(\n",
        "    torch.nn.Linear(l1, l2),\n",
        "    torch.nn.LeakyReLU(),\n",
        "    torch.nn.Linear(l2, l3),\n",
        "    torch.nn.Softmax()\n",
        ")\n",
        "\n",
        "learning_rate = 0.0009\n",
        "optimizer = torch.optim.Adam(model.parameters(), lr=learning_rate)"
      ],
      "execution_count": null,
      "outputs": []
    },
    {
      "cell_type": "markdown",
      "metadata": {
        "id": "frfcR4NjGUR9"
      },
      "source": [
        "#### Objective Function"
      ]
    },
    {
      "cell_type": "code",
      "metadata": {
        "id": "mCJN8zWcGUR-"
      },
      "source": [
        "def loss_fn(preds, r): \n",
        "    # pred is output from neural network, a is action index\n",
        "    # r is return (sum of rewards to end of episode), d is discount factor\n",
        "    return -torch.sum(r * torch.log(preds)) # element-wise multipliy, then sum"
      ],
      "execution_count": null,
      "outputs": []
    },
    {
      "cell_type": "markdown",
      "metadata": {
        "id": "2Gmop9LNGUR-"
      },
      "source": [
        "#### Training Loop"
      ]
    },
    {
      "cell_type": "code",
      "metadata": {
        "scrolled": true,
        "id": "MWj-XPi7GUR-",
        "outputId": "bb672f01-f60e-4230-b90b-50f36325dcad"
      },
      "source": [
        "env = gym.make('CartPole-v0')\n",
        "MAX_DUR = 200\n",
        "MAX_EPISODES = 500\n",
        "gamma_ = 0.2\n",
        "time_steps = []\n",
        "for episode in range(MAX_EPISODES):\n",
        "    curr_state = env.reset()\n",
        "    done = False\n",
        "    transitions = [] # list of state, action, rewards\n",
        "    \n",
        "    for t in range(MAX_DUR): #while in episode\n",
        "        act_prob = model(torch.from_numpy(curr_state).float())\n",
        "        action = np.random.choice(np.array([0,1]), p=act_prob.data.numpy())\n",
        "        prev_state = curr_state\n",
        "        curr_state, reward, done, info = env.step(action)\n",
        "        transitions.append((prev_state, action, reward))\n",
        "        if done:\n",
        "            break\n",
        "\n",
        "    # Optimize policy network with full episode\n",
        "    ep_len = len(transitions) # episode length\n",
        "    time_steps.append(ep_len)\n",
        "    preds = torch.zeros(ep_len)\n",
        "    discounted_rewards = torch.zeros(ep_len)\n",
        "    for i in range(ep_len): #for each step in episode\n",
        "        discount = 1\n",
        "        future_reward = 0\n",
        "        # discount rewards\n",
        "        for i2 in range(i, ep_len):\n",
        "            future_reward += transitions[i2][2] * discount\n",
        "            discount = discount * gamma_\n",
        "        discounted_rewards[i] = future_reward\n",
        "        state, action, _ = transitions[i]\n",
        "        pred = model(torch.from_numpy(state).float())\n",
        "        preds[i] = pred[action]\n",
        "    loss = loss_fn(preds, discounted_rewards)\n",
        "    optimizer.zero_grad()\n",
        "    loss.backward()\n",
        "    optimizer.step()\n",
        "        \n",
        "env.close()"
      ],
      "execution_count": null,
      "outputs": [
        {
          "output_type": "stream",
          "text": [
            "C:\\Users\\91950\\anaconda3\\lib\\site-packages\\torch\\nn\\modules\\container.py:100: UserWarning: Implicit dimension choice for softmax has been deprecated. Change the call to include dim=X as an argument.\n",
            "  input = module(input)\n"
          ],
          "name": "stderr"
        }
      ]
    },
    {
      "cell_type": "code",
      "metadata": {
        "id": "Gault7bJGUR_",
        "outputId": "a50fe1cd-1a7b-4993-cf79-f826216ff9a8"
      },
      "source": [
        "plt.figure(figsize=(10,7))\n",
        "plt.ylabel(\"Duration\")\n",
        "plt.xlabel(\"Episode\")\n",
        "plt.plot(running_mean(time_steps, 50), color='green')"
      ],
      "execution_count": null,
      "outputs": [
        {
          "output_type": "execute_result",
          "data": {
            "text/plain": [
              "[<matplotlib.lines.Line2D at 0x1b67777dac8>]"
            ]
          },
          "metadata": {
            "tags": []
          },
          "execution_count": 7
        },
        {
          "output_type": "display_data",
          "data": {
            "image/png": "[encoded data removed]",
            "text/plain": [
              "<Figure size 720x504 with 1 Axes>"
            ]
          },
          "metadata": {
            "tags": [],
            "needs_background": "light"
          }
        }
      ]
    },
    {
      "cell_type": "code",
      "metadata": {
        "id": "2fmnFwWnGUR_"
      },
      "source": [
        ""
      ],
      "execution_count": null,
      "outputs": []
    }
  ]
}